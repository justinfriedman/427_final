{
 "cells": [
  {
   "cell_type": "code",
   "execution_count": 11,
   "metadata": {},
   "outputs": [],
   "source": [
    "from collections import Counter\n",
    "import matplotlib.pyplot as plt"
   ]
  },
  {
   "cell_type": "code",
   "execution_count": 1,
   "metadata": {},
   "outputs": [],
   "source": [
    "d = {\n",
    "    'depress': [4, 7, 7, 8, 6, 2],\n",
    "    'anx': [3, 5, 1, 6, 2, 4],\n",
    "    'stress': [4, 6, 5, 6, 5, 2, 8, 5, 2, 3, 6, 6, 5, 8, 8, 8, 5, 7, 1, 8, 2, 3, 4, 3, 7, 1, 4, 7, 5, 4, 5, 2, 1, 2, 9, 5, 6, 5, 4, 8],\n",
    "    'pressure': [1, 1],\n",
    "    'worry': [4, 1, 8, 9, 6, 7, 10, 8, 7, 7, 5, 6, 7, 4, 3, 6, 9],\n",
    "    'worried': [6, 3, 8, 9, 6, 7, 5, 10, 3, 2, 5, 9, 9, 9, 1, 9, 8, 5, 9, 1],\n",
    "    'upset': [6, 1, 6, 8, 4, 8, 9, 8, 5, 3, 9, 3, 3, 1],\n",
    "    'anger': [1, 5, 9],\n",
    "    'angry': [2, 3, 5, 8],\n",
    "    'panic': [1, 3, 8, 3],\n",
    "    'nervous': [2, 1, 5, 1, 5, 2, 1]\n",
    "}"
   ]
  },
  {
   "cell_type": "code",
   "execution_count": 4,
   "metadata": {},
   "outputs": [
    {
     "name": "stdout",
     "output_type": "stream",
     "text": [
      "depress\n",
      "4\n",
      "7\n",
      "7\n",
      "8\n",
      "6\n",
      "2\n",
      "anx\n",
      "3\n",
      "5\n",
      "1\n",
      "6\n",
      "2\n",
      "4\n",
      "stress\n",
      "4\n",
      "6\n",
      "5\n",
      "6\n",
      "5\n",
      "2\n",
      "8\n",
      "5\n",
      "2\n",
      "3\n",
      "6\n",
      "6\n",
      "5\n",
      "8\n",
      "8\n",
      "8\n",
      "5\n",
      "7\n",
      "1\n",
      "8\n",
      "2\n",
      "3\n",
      "4\n",
      "3\n",
      "7\n",
      "1\n",
      "4\n",
      "7\n",
      "5\n",
      "4\n",
      "5\n",
      "2\n",
      "1\n",
      "2\n",
      "9\n",
      "5\n",
      "6\n",
      "5\n",
      "4\n",
      "8\n",
      "pressure\n",
      "1\n",
      "1\n",
      "worry\n",
      "4\n",
      "1\n",
      "8\n",
      "9\n",
      "6\n",
      "7\n",
      "10\n",
      "8\n",
      "7\n",
      "7\n",
      "5\n",
      "6\n",
      "7\n",
      "4\n",
      "3\n",
      "6\n",
      "9\n",
      "worried\n",
      "6\n",
      "3\n",
      "8\n",
      "9\n",
      "6\n",
      "7\n",
      "5\n",
      "10\n",
      "3\n",
      "2\n",
      "5\n",
      "9\n",
      "9\n",
      "9\n",
      "1\n",
      "9\n",
      "8\n",
      "5\n",
      "9\n",
      "1\n",
      "upset\n",
      "6\n",
      "1\n",
      "6\n",
      "8\n",
      "4\n",
      "8\n",
      "9\n",
      "8\n",
      "5\n",
      "3\n",
      "9\n",
      "3\n",
      "3\n",
      "1\n",
      "anger\n",
      "1\n",
      "5\n",
      "9\n",
      "angry\n",
      "2\n",
      "3\n",
      "5\n",
      "8\n",
      "panic\n",
      "1\n",
      "3\n",
      "8\n",
      "3\n",
      "nervous\n",
      "2\n",
      "1\n",
      "5\n",
      "1\n",
      "5\n",
      "2\n",
      "1\n"
     ]
    }
   ],
   "source": [
    "for word, hw_nums in d.items():\n",
    "    print(word)\n",
    "    for hw_num in hw_nums:\n",
    "        print(hw_num)"
   ]
  },
  {
   "cell_type": "code",
   "execution_count": 14,
   "metadata": {},
   "outputs": [
    {
     "data": {
      "image/png": "[encoded data removed]",
      "text/plain": [
       "<matplotlib.figure.Figure at 0x10ba85a90>"
      ]
     },
     "metadata": {},
     "output_type": "display_data"
    }
   ],
   "source": [
    "all_nums = sum(d.values(), [])\n",
    "counts = Counter(all_nums)\n",
    "x, y = zip(*sorted(counts.items()))\n",
    "plt.title()\n",
    "plt.xlabel('Homework Number')\n",
    "plt.ylabel('Reviews per Homework')\n",
    "plt.plot(x, y)\n",
    "plt.show()"
   ]
  },
  {
   "cell_type": "code",
   "execution_count": 15,
   "metadata": {},
   "outputs": [
    {
     "data": {
      "text/plain": [
       "((1, 2, 3, 4, 5, 6, 7, 8, 9, 10), (16, 11, 13, 10, 19, 14, 10, 16, 12, 2))"
      ]
     },
     "execution_count": 15,
     "metadata": {},
     "output_type": "execute_result"
    }
   ],
   "source": [
    "x, y"
   ]
  },
  {
   "cell_type": "code",
   "execution_count": null,
   "metadata": {},
   "outputs": [],
   "source": []
  }
 ],
 "metadata": {
  "kernelspec": {
   "display_name": "Python 3",
   "language": "python",
   "name": "python3"
  },
  "language_info": {
   "codemirror_mode": {
    "name": "ipython",
    "version": 3
   },
   "file_extension": ".py",
   "mimetype": "text/x-python",
   "name": "python",
   "nbconvert_exporter": "python",
   "pygments_lexer": "ipython3",
   "version": "3.6.6"
  }
 },
 "nbformat": 4,
 "nbformat_minor": 2
}
